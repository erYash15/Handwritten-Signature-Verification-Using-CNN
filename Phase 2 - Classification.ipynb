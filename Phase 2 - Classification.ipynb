{
 "cells": [
  {
   "cell_type": "code",
   "execution_count": 90,
   "id": "thorough-patent",
   "metadata": {},
   "outputs": [],
   "source": [
    "import numpy as np\n",
    "import pickle\n",
    "import pandas as pd\n",
    "from sklearn.metrics import accuracy_score\n",
    "from tqdm import tqdm_notebook as tqdm\n",
    "from sklearn.metrics import confusion_matrix\n",
    "import seaborn as sn\n",
    "import pandas as pd\n",
    "import matplotlib.pyplot as plt\n",
    "from sklearn.model_selection import train_test_split\n",
    "import random\n",
    "from scipy.spatial import distance\n",
    "from sklearn import svm\n",
    "from sklearn.linear_model import LogisticRegression\n",
    "from sklearn.metrics import precision_recall_fscore_support\n",
    "from sklearn.ensemble import RandomForestClassifier\n",
    "import warnings\n",
    "warnings.filterwarnings('ignore')"
   ]
  },
  {
   "cell_type": "code",
   "execution_count": null,
   "id": "outer-entity",
   "metadata": {},
   "outputs": [],
   "source": []
  },
  {
   "cell_type": "code",
   "execution_count": null,
   "id": "sharp-extension",
   "metadata": {},
   "outputs": [],
   "source": []
  },
  {
   "cell_type": "code",
   "execution_count": 54,
   "id": "opponent-plant",
   "metadata": {},
   "outputs": [],
   "source": [
    "def dataExt(model, optimizer):\n",
    "    # Load feature ext Data\n",
    "    filesTrain = \"./imgNames/train_data_names.pkl\"\n",
    "    filesTest = \"./imgNames/test_data_names.pkl\"\n",
    "    pathTrain = \"./\" + model + \"_features/\" + model + \"_\" + optimizer + \"_train.npy\"\n",
    "    pathTest = \"./\" + model + \"_features/\" + model + \"_\" + optimizer + \"_test.npy\"\n",
    "    \n",
    "    # unload pickle the file names\n",
    "    with open(filesTrain,'rb') as f:\n",
    "        file_train_list = np.load(f, allow_pickle=True)\n",
    "        \n",
    "    with open(filesTest,'rb') as f:\n",
    "        file_test_list = np.load(f, allow_pickle=True)\n",
    "    # data preprocessing \n",
    "    file_train_list = [i[18:] for i in file_train_list]\n",
    "    file_test_list = [i[17:] for i in file_test_list]\n",
    "    \n",
    "    feat_train_np = np.load(pathTrain)\n",
    "    feat_test_np = np.load(pathTest)\n",
    "    # return all the data of features of specific model\n",
    "    return file_train_list, file_test_list, feat_train_np, feat_test_np"
   ]
  },
  {
   "cell_type": "markdown",
   "id": "impaired-fifth",
   "metadata": {},
   "source": [
    "# Logistic Regression"
   ]
  },
  {
   "cell_type": "code",
   "execution_count": 105,
   "id": "recovered-calgary",
   "metadata": {},
   "outputs": [],
   "source": [
    "def LogReg(model, optimizer, X_train, y_train, X_test, y_test):\n",
    "    print(\"Logistic Regression\", model, optimizer)    \n",
    "    # extract data using function made above\n",
    "    a,b,c,d = dataExt(model, optimizer)\n",
    "    \n",
    "    def name2feat(string):\n",
    "        try:\n",
    "            index = a.index(string)\n",
    "            return c[index]\n",
    "        except:\n",
    "            index = b.index(string)\n",
    "            return d[index]\n",
    "    #data preprocessing\n",
    "    X_train['img1'] = X_train['img1'].apply(name2feat)\n",
    "    X_train['img2'] = X_train['img2'].apply(name2feat)\n",
    "    X_test['img1'] = X_test['img1'].apply(name2feat)\n",
    "    X_test['img2'] = X_test['img2'].apply(name2feat)\n",
    "    \n",
    "    new_data_train = []\n",
    "    for index,row in X_train.iterrows():\n",
    "        new_list = list(row[0])\n",
    "        new_list.extend(row[1])\n",
    "        new_data_train.append(new_list)\n",
    "    \n",
    "    new_data_test = []\n",
    "    for index,row in X_test.iterrows():\n",
    "        new_list = list(row[0])\n",
    "        new_list.extend(row[1])\n",
    "        new_data_test.append(new_list)\n",
    "    #actual model of logistic regression from sklearn library\n",
    "    Model = LogisticRegression()\n",
    "    Model.fit(new_data_train, y_train)\n",
    "    y_pred = Model.predict(new_data_test)\n",
    "    # check the accuracy p, r,f\n",
    "    print(\"Acuracy\", accuracy_score(y_test, y_pred))\n",
    "    print(\"P,R,F1:\",precision_recall_fscore_support(y_test, y_pred, average='macro'))\n",
    "    df_cm = pd.DataFrame(confusion_matrix(y_test,y_pred,normalize = 'true'), index = [i for i in \"01\"],\n",
    "                  columns = [i for i in \"01\"])\n",
    "    plt.figure(figsize = (10,7))\n",
    "    sn.heatmap(df_cm, annot=True)"
   ]
  },
  {
   "cell_type": "markdown",
   "id": "elementary-homework",
   "metadata": {},
   "source": [
    "# Random Forest"
   ]
  },
  {
   "cell_type": "code",
   "execution_count": 135,
   "id": "spoken-mirror",
   "metadata": {},
   "outputs": [],
   "source": [
    "def RandFor(model, optimizer, X_train, y_train, X_test, y_test):\n",
    "    print(\"Logistic Regression\", model, optimizer)    \n",
    "    \n",
    "    a,b,c,d = dataExt(model, optimizer)\n",
    "    \n",
    "    def name2feat(string):\n",
    "        try:\n",
    "            index = a.index(string)\n",
    "            return c[index]\n",
    "        except:\n",
    "            index = b.index(string)\n",
    "            return d[index]\n",
    "       \n",
    "    X_train['img1'] = X_train['img1'].apply(name2feat)\n",
    "    X_train['img2'] = X_train['img2'].apply(name2feat)\n",
    "    X_test['img1'] = X_test['img1'].apply(name2feat)\n",
    "    X_test['img2'] = X_test['img2'].apply(name2feat)\n",
    "    \n",
    "    new_data_train = []\n",
    "    for index,row in X_train.iterrows():\n",
    "        new_list = list(row[0])\n",
    "        new_list.extend(row[1])\n",
    "        new_data_train.append(new_list)\n",
    "    \n",
    "    new_data_test = []\n",
    "    for index,row in X_test.iterrows():\n",
    "        new_list = list(row[0])\n",
    "        new_list.extend(row[1])\n",
    "        new_data_test.append(new_list)\n",
    "    \n",
    "    Model = RandomForestClassifier()\n",
    "    Model.fit(new_data_train, y_train)\n",
    "    y_pred = Model.predict(new_data_test)\n",
    "    \n",
    "    print(\"Acuracy\", accuracy_score(y_test, y_pred))\n",
    "    print(\"P,R,F1:\",precision_recall_fscore_support(y_test, y_pred, average='macro'))\n",
    "    df_cm = pd.DataFrame(confusion_matrix(y_test,y_pred,normalize = 'true'), index = [i for i in \"01\"],\n",
    "                  columns = [i for i in \"01\"])\n",
    "    plt.figure(figsize = (10,7))\n",
    "    sn.heatmap(df_cm, annot=True)"
   ]
  },
  {
   "cell_type": "markdown",
   "id": "automated-lindsay",
   "metadata": {},
   "source": [
    "# Linear SVM"
   ]
  },
  {
   "cell_type": "code",
   "execution_count": 136,
   "id": "boxed-silicon",
   "metadata": {},
   "outputs": [],
   "source": [
    "def LinearSVM(model, optimizer, X_train, y_train, X_test, y_test):\n",
    "    print(\"Linear SVM\", model, optimizer)    \n",
    "    \n",
    "    a,b,c,d = dataExt(model, optimizer)\n",
    "    \n",
    "    def name2feat(string):\n",
    "        try:\n",
    "            index = a.index(string)\n",
    "            return c[index]\n",
    "        except:\n",
    "            index = b.index(string)\n",
    "            return d[index]\n",
    "       \n",
    "    X_train['img1'] = X_train['img1'].apply(name2feat)\n",
    "    X_train['img2'] = X_train['img2'].apply(name2feat)\n",
    "    X_test['img1'] = X_test['img1'].apply(name2feat)\n",
    "    X_test['img2'] = X_test['img2'].apply(name2feat)\n",
    "    \n",
    "    new_data_train = []\n",
    "    for index,row in X_train.iterrows():\n",
    "        new_list = list(row[0])\n",
    "        new_list.extend(row[1])\n",
    "        new_data_train.append(new_list)\n",
    "    \n",
    "    new_data_test = []\n",
    "    for index,row in X_test.iterrows():\n",
    "        new_list = list(row[0])\n",
    "        new_list.extend(row[1])\n",
    "        new_data_test.append(new_list)\n",
    "    \n",
    "    Model = svm.SVC(kernel='linear') #rbf by default svm.SVC()\n",
    "    Model.fit(new_data_train, y_train)\n",
    "    y_pred = Model.predict(new_data_test)\n",
    "    \n",
    "    print(\"Acuracy\", accuracy_score(y_test, y_pred))\n",
    "    print(\"P,R,F1:\",precision_recall_fscore_support(y_test, y_pred, average='macro'))\n",
    "    df_cm = pd.DataFrame(confusion_matrix(y_test,y_pred,normalize = 'true'), index = [i for i in \"01\"],\n",
    "                  columns = [i for i in \"01\"])\n",
    "    plt.figure(figsize = (10,7))\n",
    "    sn.heatmap(df_cm, annot=True)"
   ]
  },
  {
   "cell_type": "markdown",
   "id": "sudden-storm",
   "metadata": {},
   "source": [
    "# Rbf SVM"
   ]
  },
  {
   "cell_type": "code",
   "execution_count": 137,
   "id": "sixth-buffalo",
   "metadata": {},
   "outputs": [],
   "source": [
    "def RbfSVM(model, optimizer, X_train, y_train, X_test, y_test):\n",
    "    print(\"RBF SVM\", model, optimizer)    \n",
    "    \n",
    "    a,b,c,d = dataExt(model, optimizer)\n",
    "    \n",
    "    def name2feat(string):\n",
    "        try:\n",
    "            index = a.index(string)\n",
    "            return c[index]\n",
    "        except:\n",
    "            index = b.index(string)\n",
    "            return d[index]\n",
    "       \n",
    "    X_train['img1'] = X_train['img1'].apply(name2feat)\n",
    "    X_train['img2'] = X_train['img2'].apply(name2feat)\n",
    "    X_test['img1'] = X_test['img1'].apply(name2feat)\n",
    "    X_test['img2'] = X_test['img2'].apply(name2feat)\n",
    "    \n",
    "    new_data_train = []\n",
    "    for index,row in X_train.iterrows():\n",
    "        new_list = list(row[0])\n",
    "        new_list.extend(row[1])\n",
    "        new_data_train.append(new_list)\n",
    "    \n",
    "    new_data_test = []\n",
    "    for index,row in X_test.iterrows():\n",
    "        new_list = list(row[0])\n",
    "        new_list.extend(row[1])\n",
    "        new_data_test.append(new_list)\n",
    "    \n",
    "    Model = svm.SVC(kernel='rbf') #rbf by default svm.SVC()\n",
    "    Model.fit(new_data_train, y_train)\n",
    "    y_pred = Model.predict(new_data_test)\n",
    "    \n",
    "    print(\"Acuracy\", accuracy_score(y_test, y_pred))\n",
    "    print(\"P,R,F1:\",precision_recall_fscore_support(y_test, y_pred, average='macro'))\n",
    "    df_cm = pd.DataFrame(confusion_matrix(y_test,y_pred,normalize = 'true'), index = [i for i in \"01\"],\n",
    "                  columns = [i for i in \"01\"])\n",
    "    plt.figure(figsize = (10,7))\n",
    "    sn.heatmap(df_cm, annot=True)"
   ]
  },
  {
   "cell_type": "markdown",
   "id": "checked-creature",
   "metadata": {},
   "source": [
    "# Sigmoid SVM"
   ]
  },
  {
   "cell_type": "code",
   "execution_count": 138,
   "id": "filled-police",
   "metadata": {},
   "outputs": [],
   "source": [
    "def SigmoidSVM(model, optimizer, X_train, y_train, X_test, y_test):\n",
    "    print(\"Sigmoid SVM\", model, optimizer)    \n",
    "    \n",
    "    a,b,c,d = dataExt(model, optimizer)\n",
    "    \n",
    "    def name2feat(string):\n",
    "        try:\n",
    "            index = a.index(string)\n",
    "            return c[index]\n",
    "        except:\n",
    "            index = b.index(string)\n",
    "            return d[index]\n",
    "       \n",
    "    X_train['img1'] = X_train['img1'].apply(name2feat)\n",
    "    X_train['img2'] = X_train['img2'].apply(name2feat)\n",
    "    X_test['img1'] = X_test['img1'].apply(name2feat)\n",
    "    X_test['img2'] = X_test['img2'].apply(name2feat)\n",
    "    \n",
    "    new_data_train = []\n",
    "    for index,row in X_train.iterrows():\n",
    "        new_list = list(row[0])\n",
    "        new_list.extend(row[1])\n",
    "        new_data_train.append(new_list)\n",
    "    \n",
    "    new_data_test = []\n",
    "    for index,row in X_test.iterrows():\n",
    "        new_list = list(row[0])\n",
    "        new_list.extend(row[1])\n",
    "        new_data_test.append(new_list)\n",
    "    \n",
    "    Model = svm.SVC(kernel='sigmoid') #rbf by default svm.SVC()\n",
    "    Model.fit(new_data_train, y_train)\n",
    "    y_pred = Model.predict(new_data_test)\n",
    "    \n",
    "    print(\"Acuracy\", accuracy_score(y_test, y_pred))\n",
    "    print(\"P,R,F1:\",precision_recall_fscore_support(y_test, y_pred, average='macro'))\n",
    "    df_cm = pd.DataFrame(confusion_matrix(y_test,y_pred,normalize = 'true'), index = [i for i in \"01\"],\n",
    "                  columns = [i for i in \"01\"])\n",
    "    plt.figure(figsize = (10,7))\n",
    "    sn.heatmap(df_cm, annot=True)"
   ]
  },
  {
   "cell_type": "markdown",
   "id": "therapeutic-damage",
   "metadata": {},
   "source": [
    "# Poly SVM"
   ]
  },
  {
   "cell_type": "code",
   "execution_count": 156,
   "id": "religious-novelty",
   "metadata": {},
   "outputs": [],
   "source": [
    "def PolySVM(model, optimizer, X_train, y_train, X_test, y_test):\n",
    "    print(\"POLY SVM\", model, optimizer)    \n",
    "    \n",
    "    a,b,c,d = dataExt(model, optimizer)\n",
    "    \n",
    "    def name2feat(string):\n",
    "        try:\n",
    "            index = a.index(string)\n",
    "            return c[index]\n",
    "        except:\n",
    "            index = b.index(string)\n",
    "            return d[index]\n",
    "       \n",
    "    X_train['img1'] = X_train['img1'].apply(name2feat)\n",
    "    X_train['img2'] = X_train['img2'].apply(name2feat)\n",
    "    X_test['img1'] = X_test['img1'].apply(name2feat)\n",
    "    X_test['img2'] = X_test['img2'].apply(name2feat)\n",
    "    \n",
    "    new_data_train = []\n",
    "    for index,row in X_train.iterrows():\n",
    "        new_list = list(row[0])\n",
    "        new_list.extend(row[1])\n",
    "        new_data_train.append(new_list)\n",
    "    \n",
    "    new_data_test = []\n",
    "    for index,row in X_test.iterrows():\n",
    "        new_list = list(row[0])\n",
    "        new_list.extend(row[1])\n",
    "        new_data_test.append(new_list)\n",
    "    \n",
    "    Model = svm.SVC(kernel='poly') #rbf by default svm.SVC()\n",
    "    Model.fit(new_data_train, y_train)\n",
    "    y_pred = Model.predict(new_data_test)\n",
    "    \n",
    "    print(\"Acuracy\", accuracy_score(y_test, y_pred))\n",
    "    print(\"P,R,F1:\",precision_recall_fscore_support(y_test, y_pred, average='macro'))\n",
    "    df_cm = pd.DataFrame(confusion_matrix(y_test,y_pred,normalize = 'true'), index = [i for i in \"01\"],\n",
    "                  columns = [i for i in \"01\"])\n",
    "    plt.figure(figsize = (10,7))\n",
    "    sn.heatmap(df_cm, annot=True)"
   ]
  },
  {
   "cell_type": "markdown",
   "id": "young-tunisia",
   "metadata": {},
   "source": [
    "# Logistic Regression Test"
   ]
  },
  {
   "cell_type": "code",
   "execution_count": 111,
   "id": "genuine-today",
   "metadata": {},
   "outputs": [
    {
     "name": "stdout",
     "output_type": "stream",
     "text": [
      "Logistic Regression VGG16 Adam\n",
      "Acuracy 0.9852125693160814\n",
      "P,R,F1: (0.9789699544725058, 0.9880954234122042, 0.9833187461245967, None)\n"
     ]
    },
    {
     "data": {
      "image/png": "[encoded data removed]",
      "text/plain": [
       "<Figure size 720x504 with 2 Axes>"
      ]
     },
     "metadata": {
      "needs_background": "light"
     },
     "output_type": "display_data"
    }
   ],
   "source": [
    "data = pd.read_csv('./sign_data/data.csv')\n",
    "X_data = data[['img1','img2']]\n",
    "y_data = data[['target']]\n",
    "X_train, X_test, y_train, y_test = train_test_split(X_data, y_data, test_size=0.33)\n",
    "LogReg('VGG16', 'Adam', X_train, y_train, X_test, y_test)"
   ]
  },
  {
   "cell_type": "code",
   "execution_count": 112,
   "id": "swiss-consultation",
   "metadata": {},
   "outputs": [
    {
     "name": "stdout",
     "output_type": "stream",
     "text": [
      "Logistic Regression VGG16 RMSprop\n",
      "Acuracy 0.9887773963559546\n",
      "P,R,F1: (0.9836940849379218, 0.9911676438841122, 0.9872925871977835, None)\n",
      "Wall time: 7.22 s\n"
     ]
    },
    {
     "data": {
      "image/png": "[encoded data removed]",
      "text/plain": [
       "<Figure size 720x504 with 2 Axes>"
      ]
     },
     "metadata": {
      "needs_background": "light"
     },
     "output_type": "display_data"
    }
   ],
   "source": [
    "%%time\n",
    "data = pd.read_csv('./sign_data/data.csv')\n",
    "X_data = data[['img1','img2']]\n",
    "y_data = data[['target']]\n",
    "X_train, X_test, y_train, y_test = train_test_split(X_data, y_data, test_size=0.33)\n",
    "LogReg('VGG16','RMSprop', X_train, y_train, X_test, y_test)"
   ]
  },
  {
   "cell_type": "code",
   "execution_count": 113,
   "id": "amino-beverage",
   "metadata": {},
   "outputs": [
    {
     "name": "stdout",
     "output_type": "stream",
     "text": [
      "Logistic Regression InceptionV3 Adam\n",
      "Acuracy 0.889754423026142\n",
      "P,R,F1: (0.8698896149153024, 0.8929337148714445, 0.8790105730230018, None)\n",
      "Wall time: 8.48 s\n"
     ]
    },
    {
     "data": {
      "image/png": "[encoded data removed]",
      "text/plain": [
       "<Figure size 720x504 with 2 Axes>"
      ]
     },
     "metadata": {
      "needs_background": "light"
     },
     "output_type": "display_data"
    }
   ],
   "source": [
    "%%time\n",
    "data = pd.read_csv('./sign_data/data.csv')\n",
    "X_data = data[['img1','img2']]\n",
    "y_data = data[['target']]\n",
    "X_train, X_test, y_train, y_test = train_test_split(X_data, y_data, test_size=0.33)\n",
    "LogReg('InceptionV3','Adam', X_train, y_train, X_test, y_test)"
   ]
  },
  {
   "cell_type": "code",
   "execution_count": 114,
   "id": "pacific-belly",
   "metadata": {},
   "outputs": [
    {
     "name": "stdout",
     "output_type": "stream",
     "text": [
      "Logistic Regression InceptionV3 Adagrad\n",
      "Acuracy 0.992078162133615\n",
      "P,R,F1: (0.9883348009472674, 0.9939104730620203, 0.9910455687624418, None)\n",
      "Wall time: 7.39 s\n"
     ]
    },
    {
     "data": {
      "image/png": "[encoded data removed]",
      "text/plain": [
       "<Figure size 720x504 with 2 Axes>"
      ]
     },
     "metadata": {
      "needs_background": "light"
     },
     "output_type": "display_data"
    }
   ],
   "source": [
    "%%time\n",
    "data = pd.read_csv('./sign_data/data.csv')\n",
    "X_data = data[['img1','img2']]\n",
    "y_data = data[['target']]\n",
    "X_train, X_test, y_train, y_test = train_test_split(X_data, y_data, test_size=0.33)\n",
    "LogReg('InceptionV3','Adagrad', X_train, y_train, X_test, y_test)"
   ]
  },
  {
   "cell_type": "markdown",
   "id": "hawaiian-marine",
   "metadata": {},
   "source": [
    "# Random Forest"
   ]
  },
  {
   "cell_type": "code",
   "execution_count": 115,
   "id": "adequate-consumption",
   "metadata": {},
   "outputs": [
    {
     "name": "stdout",
     "output_type": "stream",
     "text": [
      "Logistic Regression VGG16 Adam\n",
      "Acuracy 0.9900977026670188\n",
      "P,R,F1: (0.9851308485329104, 0.9926857811585723, 0.9887691544931951, None)\n",
      "Wall time: 12.5 s\n"
     ]
    },
    {
     "data": {
      "image/png": "[encoded data removed]",
      "text/plain": [
       "<Figure size 720x504 with 2 Axes>"
      ]
     },
     "metadata": {
      "needs_background": "light"
     },
     "output_type": "display_data"
    }
   ],
   "source": [
    "%%time\n",
    "data = pd.read_csv('./sign_data/data.csv')\n",
    "X_data = data[['img1','img2']]\n",
    "y_data = data[['target']]\n",
    "X_train, X_test, y_train, y_test = train_test_split(X_data, y_data, test_size=0.33)\n",
    "RandFor('VGG16','Adam', X_train, y_train, X_test, y_test)"
   ]
  },
  {
   "cell_type": "code",
   "execution_count": 116,
   "id": "hidden-abraham",
   "metadata": {},
   "outputs": [
    {
     "name": "stdout",
     "output_type": "stream",
     "text": [
      "Logistic Regression VGG16 RMSprop\n",
      "Acuracy 0.9911539477158701\n",
      "P,R,F1: (0.9868781825303564, 0.9934158805031447, 0.9900379768049593, None)\n",
      "Wall time: 12.1 s\n"
     ]
    },
    {
     "data": {
      "image/png": "[encoded data removed]",
      "text/plain": [
       "<Figure size 720x504 with 2 Axes>"
      ]
     },
     "metadata": {
      "needs_background": "light"
     },
     "output_type": "display_data"
    }
   ],
   "source": [
    "%%time\n",
    "data = pd.read_csv('./sign_data/data.csv')\n",
    "X_data = data[['img1','img2']]\n",
    "y_data = data[['target']]\n",
    "X_train, X_test, y_train, y_test = train_test_split(X_data, y_data, test_size=0.33)\n",
    "RandFor('VGG16','RMSprop', X_train, y_train, X_test, y_test)"
   ]
  },
  {
   "cell_type": "code",
   "execution_count": 117,
   "id": "asian-knowing",
   "metadata": {},
   "outputs": [
    {
     "name": "stdout",
     "output_type": "stream",
     "text": [
      "Logistic Regression InceptionV3 Adam\n",
      "Acuracy 0.991418008978083\n",
      "P,R,F1: (0.9872997264556467, 0.9936023622047244, 0.9903487617681501, None)\n",
      "Wall time: 11.8 s\n"
     ]
    },
    {
     "data": {
      "image/png": "[encoded data removed]",
      "text/plain": [
       "<Figure size 720x504 with 2 Axes>"
      ]
     },
     "metadata": {
      "needs_background": "light"
     },
     "output_type": "display_data"
    }
   ],
   "source": [
    "%%time\n",
    "data = pd.read_csv('./sign_data/data.csv')\n",
    "X_data = data[['img1','img2']]\n",
    "y_data = data[['target']]\n",
    "X_train, X_test, y_train, y_test = train_test_split(X_data, y_data, test_size=0.33)\n",
    "RandFor('InceptionV3','Adam', X_train, y_train, X_test, y_test)"
   ]
  },
  {
   "cell_type": "code",
   "execution_count": 118,
   "id": "accessory-mercury",
   "metadata": {},
   "outputs": [
    {
     "name": "stdout",
     "output_type": "stream",
     "text": [
      "Logistic Regression InceptionV3 Adagrad\n",
      "Acuracy 0.9891734882492739\n",
      "P,R,F1: (0.9839026305457401, 0.9919749461734195, 0.987774644720075, None)\n",
      "Wall time: 14.8 s\n"
     ]
    },
    {
     "data": {
      "image/png": "[encoded data removed]",
      "text/plain": [
       "<Figure size 720x504 with 2 Axes>"
      ]
     },
     "metadata": {
      "needs_background": "light"
     },
     "output_type": "display_data"
    }
   ],
   "source": [
    "%%time\n",
    "data = pd.read_csv('./sign_data/data.csv')\n",
    "X_data = data[['img1','img2']]\n",
    "y_data = data[['target']]\n",
    "X_train, X_test, y_train, y_test = train_test_split(X_data, y_data, test_size=0.33)\n",
    "RandFor('InceptionV3','Adagrad', X_train, y_train, X_test, y_test)"
   ]
  },
  {
   "cell_type": "markdown",
   "id": "touched-attempt",
   "metadata": {},
   "source": [
    "# Linear SVM Test"
   ]
  },
  {
   "cell_type": "code",
   "execution_count": 140,
   "id": "mexican-parts",
   "metadata": {},
   "outputs": [
    {
     "name": "stdout",
     "output_type": "stream",
     "text": [
      "Linear SVM VGG16 Adam\n",
      "Acuracy 0.9940586216002113\n",
      "P,R,F1: (0.9909237595804761, 0.9956225680933852, 0.9932219744213706, None)\n",
      "Wall time: 1min 9s\n"
     ]
    },
    {
     "data": {
      "image/png": "[encoded data removed]",
      "text/plain": [
       "<Figure size 720x504 with 2 Axes>"
      ]
     },
     "metadata": {
      "needs_background": "light"
     },
     "output_type": "display_data"
    }
   ],
   "source": [
    "%%time\n",
    "data = pd.read_csv('./sign_data/data.csv')\n",
    "X_data = data[['img1','img2']]\n",
    "y_data = data[['target']]\n",
    "X_train, X_test, y_train, y_test = train_test_split(X_data, y_data, test_size=0.33)\n",
    "LinearSVM('VGG16','Adam', X_train, y_train, X_test, y_test)"
   ]
  },
  {
   "cell_type": "code",
   "execution_count": 141,
   "id": "tired-potential",
   "metadata": {},
   "outputs": [
    {
     "name": "stdout",
     "output_type": "stream",
     "text": [
      "Linear SVM VGG16 RMSprop\n",
      "Acuracy 0.9908898864536573\n",
      "P,R,F1: (0.986024868963979, 0.9932403827179825, 0.9895169329377254, None)\n",
      "Wall time: 30.5 s\n"
     ]
    },
    {
     "data": {
      "image/png": "[encoded data removed]",
      "text/plain": [
       "<Figure size 720x504 with 2 Axes>"
      ]
     },
     "metadata": {
      "needs_background": "light"
     },
     "output_type": "display_data"
    }
   ],
   "source": [
    "%%time\n",
    "data = pd.read_csv('./sign_data/data.csv')\n",
    "X_data = data[['img1','img2']]\n",
    "y_data = data[['target']]\n",
    "X_train, X_test, y_train, y_test = train_test_split(X_data, y_data, test_size=0.33)\n",
    "LinearSVM('VGG16','RMSprop', X_train, y_train, X_test, y_test)"
   ]
  },
  {
   "cell_type": "code",
   "execution_count": 142,
   "id": "attractive-entity",
   "metadata": {},
   "outputs": [
    {
     "name": "stdout",
     "output_type": "stream",
     "text": [
      "Linear SVM InceptionV3 Adam\n",
      "Acuracy 0.9273831528914708\n",
      "P,R,F1: (0.9100130890052356, 0.9457379636937648, 0.9218696839519276, None)\n",
      "Wall time: 6min 21s\n"
     ]
    },
    {
     "data": {
      "image/png": "[encoded data removed]",
      "text/plain": [
       "<Figure size 720x504 with 2 Axes>"
      ]
     },
     "metadata": {
      "needs_background": "light"
     },
     "output_type": "display_data"
    }
   ],
   "source": [
    "%%time\n",
    "data = pd.read_csv('./sign_data/data.csv')\n",
    "X_data = data[['img1','img2']]\n",
    "y_data = data[['target']]\n",
    "X_train, X_test, y_train, y_test = train_test_split(X_data, y_data, test_size=0.33)\n",
    "LinearSVM('InceptionV3','Adam', X_train, y_train, X_test, y_test)"
   ]
  },
  {
   "cell_type": "code",
   "execution_count": 143,
   "id": "weekly-bonus",
   "metadata": {},
   "outputs": [
    {
     "name": "stdout",
     "output_type": "stream",
     "text": [
      "Linear SVM InceptionV3 Adagrad\n",
      "Acuracy 0.9900977026670188\n",
      "P,R,F1: (0.9857032303719259, 0.9923015276560654, 0.9888880140491652, None)\n",
      "Wall time: 20.9 s\n"
     ]
    },
    {
     "data": {
      "image/png": "[encoded data removed]",
      "text/plain": [
       "<Figure size 720x504 with 2 Axes>"
      ]
     },
     "metadata": {
      "needs_background": "light"
     },
     "output_type": "display_data"
    }
   ],
   "source": [
    "%%time\n",
    "data = pd.read_csv('./sign_data/data.csv')\n",
    "X_data = data[['img1','img2']]\n",
    "y_data = data[['target']]\n",
    "X_train, X_test, y_train, y_test = train_test_split(X_data, y_data, test_size=0.33)\n",
    "LinearSVM('InceptionV3','Adagrad', X_train, y_train, X_test, y_test)"
   ]
  },
  {
   "cell_type": "markdown",
   "id": "surprised-drawing",
   "metadata": {},
   "source": [
    "# RBF SVM Test"
   ]
  },
  {
   "cell_type": "code",
   "execution_count": 144,
   "id": "variable-cyprus",
   "metadata": {},
   "outputs": [
    {
     "name": "stdout",
     "output_type": "stream",
     "text": [
      "RBF SVM VGG16 Adam\n",
      "Acuracy 0.9353049907578558\n",
      "P,R,F1: (0.9361625420641575, 0.9146705175830852, 0.9242806698318434, None)\n",
      "Wall time: 1min 15s\n"
     ]
    },
    {
     "data": {
      "image/png": "[encoded data removed]",
      "text/plain": [
       "<Figure size 720x504 with 2 Axes>"
      ]
     },
     "metadata": {
      "needs_background": "light"
     },
     "output_type": "display_data"
    }
   ],
   "source": [
    "%%time\n",
    "data = pd.read_csv('./sign_data/data.csv')\n",
    "X_data = data[['img1','img2']]\n",
    "y_data = data[['target']]\n",
    "X_train, X_test, y_train, y_test = train_test_split(X_data, y_data, test_size=0.33)\n",
    "RbfSVM('VGG16','Adam', X_train, y_train, X_test, y_test)"
   ]
  },
  {
   "cell_type": "code",
   "execution_count": 145,
   "id": "tired-burns",
   "metadata": {},
   "outputs": [
    {
     "name": "stdout",
     "output_type": "stream",
     "text": [
      "RBF SVM VGG16 RMSprop\n",
      "Acuracy 0.9598626881436493\n",
      "P,R,F1: (0.9558529506228586, 0.9534589262212847, 0.9546400734302148, None)\n",
      "Wall time: 57.7 s\n"
     ]
    },
    {
     "data": {
      "image/png": "[encoded data removed]",
      "text/plain": [
       "<Figure size 720x504 with 2 Axes>"
      ]
     },
     "metadata": {
      "needs_background": "light"
     },
     "output_type": "display_data"
    }
   ],
   "source": [
    "%%time\n",
    "data = pd.read_csv('./sign_data/data.csv')\n",
    "X_data = data[['img1','img2']]\n",
    "y_data = data[['target']]\n",
    "X_train, X_test, y_train, y_test = train_test_split(X_data, y_data, test_size=0.33)\n",
    "RbfSVM('VGG16','RMSprop', X_train, y_train, X_test, y_test)"
   ]
  },
  {
   "cell_type": "code",
   "execution_count": 146,
   "id": "cubic-gates",
   "metadata": {},
   "outputs": [
    {
     "name": "stdout",
     "output_type": "stream",
     "text": [
      "RBF SVM InceptionV3 Adam\n",
      "Acuracy 0.8963559545814629\n",
      "P,R,F1: (0.879027115979613, 0.8945955497666818, 0.8857769444900876, None)\n",
      "Wall time: 1min 32s\n"
     ]
    },
    {
     "data": {
      "image/png": "[encoded data removed]",
      "text/plain": [
       "<Figure size 720x504 with 2 Axes>"
      ]
     },
     "metadata": {
      "needs_background": "light"
     },
     "output_type": "display_data"
    }
   ],
   "source": [
    "%%time\n",
    "data = pd.read_csv('./sign_data/data.csv')\n",
    "X_data = data[['img1','img2']]\n",
    "y_data = data[['target']]\n",
    "X_train, X_test, y_train, y_test = train_test_split(X_data, y_data, test_size=0.33)\n",
    "RbfSVM('InceptionV3','Adam', X_train, y_train, X_test, y_test)"
   ]
  },
  {
   "cell_type": "code",
   "execution_count": 147,
   "id": "impossible-frequency",
   "metadata": {},
   "outputs": [
    {
     "name": "stdout",
     "output_type": "stream",
     "text": [
      "RBF SVM InceptionV3 Adagrad\n",
      "Acuracy 0.9922101927647214\n",
      "P,R,F1: (0.988279698053238, 0.994233776387803, 0.991170518867808, None)\n",
      "Wall time: 31.5 s\n"
     ]
    },
    {
     "data": {
      "image/png": "[encoded data removed]",
      "text/plain": [
       "<Figure size 720x504 with 2 Axes>"
      ]
     },
     "metadata": {
      "needs_background": "light"
     },
     "output_type": "display_data"
    }
   ],
   "source": [
    "%%time\n",
    "data = pd.read_csv('./sign_data/data.csv')\n",
    "X_data = data[['img1','img2']]\n",
    "y_data = data[['target']]\n",
    "X_train, X_test, y_train, y_test = train_test_split(X_data, y_data, test_size=0.33)\n",
    "RbfSVM('InceptionV3','Adagrad', X_train, y_train, X_test, y_test)"
   ]
  },
  {
   "cell_type": "markdown",
   "id": "danish-information",
   "metadata": {},
   "source": [
    "# Sigmoid SVM Test"
   ]
  },
  {
   "cell_type": "code",
   "execution_count": 148,
   "id": "opponent-benchmark",
   "metadata": {},
   "outputs": [
    {
     "name": "stdout",
     "output_type": "stream",
     "text": [
      "Sigmoid SVM VGG16 Adam\n",
      "Acuracy 0.5017163982043834\n",
      "P,R,F1: (0.4322072567387031, 0.4349816403429043, 0.43327954061350354, None)\n",
      "Wall time: 1min 21s\n"
     ]
    },
    {
     "data": {
      "image/png": "[encoded data removed]",
      "text/plain": [
       "<Figure size 720x504 with 2 Axes>"
      ]
     },
     "metadata": {
      "needs_background": "light"
     },
     "output_type": "display_data"
    }
   ],
   "source": [
    "%%time\n",
    "data = pd.read_csv('./sign_data/data.csv')\n",
    "X_data = data[['img1','img2']]\n",
    "y_data = data[['target']]\n",
    "X_train, X_test, y_train, y_test = train_test_split(X_data, y_data, test_size=0.33)\n",
    "SigmoidSVM('VGG16','Adam', X_train, y_train, X_test, y_test)"
   ]
  },
  {
   "cell_type": "code",
   "execution_count": 149,
   "id": "backed-darkness",
   "metadata": {},
   "outputs": [
    {
     "name": "stdout",
     "output_type": "stream",
     "text": [
      "Sigmoid SVM VGG16 RMSprop\n",
      "Acuracy 0.5591497227356746\n",
      "P,R,F1: (0.4982639500729814, 0.4982874260938116, 0.49823399880419406, None)\n",
      "Wall time: 1min 16s\n"
     ]
    },
    {
     "data": {
      "image/png": "[encoded data removed]",
      "text/plain": [
       "<Figure size 720x504 with 2 Axes>"
      ]
     },
     "metadata": {
      "needs_background": "light"
     },
     "output_type": "display_data"
    }
   ],
   "source": [
    "%%time\n",
    "data = pd.read_csv('./sign_data/data.csv')\n",
    "X_data = data[['img1','img2']]\n",
    "y_data = data[['target']]\n",
    "X_train, X_test, y_train, y_test = train_test_split(X_data, y_data, test_size=0.33)\n",
    "SigmoidSVM('VGG16','RMSprop', X_train, y_train, X_test, y_test)"
   ]
  },
  {
   "cell_type": "code",
   "execution_count": 150,
   "id": "active-value",
   "metadata": {},
   "outputs": [
    {
     "name": "stdout",
     "output_type": "stream",
     "text": [
      "Sigmoid SVM InceptionV3 Adam\n",
      "Acuracy 0.6680749933984684\n",
      "P,R,F1: (0.6267811117979932, 0.6248150769841537, 0.6257155736229697, None)\n",
      "Wall time: 1min 3s\n"
     ]
    },
    {
     "data": {
      "image/png": "[encoded data removed]",
      "text/plain": [
       "<Figure size 720x504 with 2 Axes>"
      ]
     },
     "metadata": {
      "needs_background": "light"
     },
     "output_type": "display_data"
    }
   ],
   "source": [
    "%%time\n",
    "data = pd.read_csv('./sign_data/data.csv')\n",
    "X_data = data[['img1','img2']]\n",
    "y_data = data[['target']]\n",
    "X_train, X_test, y_train, y_test = train_test_split(X_data, y_data, test_size=0.33)\n",
    "SigmoidSVM('InceptionV3','Adam', X_train, y_train, X_test, y_test)"
   ]
  },
  {
   "cell_type": "code",
   "execution_count": 151,
   "id": "civilian-twins",
   "metadata": {},
   "outputs": [
    {
     "name": "stdout",
     "output_type": "stream",
     "text": [
      "Sigmoid SVM InceptionV3 Adagrad\n",
      "Acuracy 0.9222339582783206\n",
      "P,R,F1: (0.9101741502464553, 0.9139498628877583, 0.9120169320258603, None)\n",
      "Wall time: 30.6 s\n"
     ]
    },
    {
     "data": {
      "image/png": "[encoded data removed]",
      "text/plain": [
       "<Figure size 720x504 with 2 Axes>"
      ]
     },
     "metadata": {
      "needs_background": "light"
     },
     "output_type": "display_data"
    }
   ],
   "source": [
    "%%time\n",
    "data = pd.read_csv('./sign_data/data.csv')\n",
    "X_data = data[['img1','img2']]\n",
    "y_data = data[['target']]\n",
    "X_train, X_test, y_train, y_test = train_test_split(X_data, y_data, test_size=0.33)\n",
    "SigmoidSVM('InceptionV3','Adagrad', X_train, y_train, X_test, y_test)"
   ]
  },
  {
   "cell_type": "markdown",
   "id": "scientific-implementation",
   "metadata": {},
   "source": [
    "# Poly SVM Test"
   ]
  },
  {
   "cell_type": "code",
   "execution_count": 157,
   "id": "union-gravity",
   "metadata": {},
   "outputs": [
    {
     "name": "stdout",
     "output_type": "stream",
     "text": [
      "POLY SVM VGG16 Adam\n",
      "Acuracy 0.8624240823871138\n",
      "P,R,F1: (0.8977022524266887, 0.7962779970516904, 0.824081041090736, None)\n",
      "Wall time: 1min 5s\n"
     ]
    },
    {
     "data": {
      "image/png": "[encoded data removed]",
      "text/plain": [
       "<Figure size 720x504 with 2 Axes>"
      ]
     },
     "metadata": {
      "needs_background": "light"
     },
     "output_type": "display_data"
    }
   ],
   "source": [
    "%%time\n",
    "data = pd.read_csv('./sign_data/data.csv')\n",
    "X_data = data[['img1','img2']]\n",
    "y_data = data[['target']]\n",
    "X_train, X_test, y_train, y_test = train_test_split(X_data, y_data, test_size=0.33)\n",
    "PolySVM('VGG16','Adam', X_train, y_train, X_test, y_test)"
   ]
  },
  {
   "cell_type": "code",
   "execution_count": 158,
   "id": "english-major",
   "metadata": {},
   "outputs": [
    {
     "name": "stdout",
     "output_type": "stream",
     "text": [
      "POLY SVM VGG16 RMSprop\n",
      "Acuracy 0.8678373382624769\n",
      "P,R,F1: (0.9040413729854724, 0.8060706475374151, 0.8333626646468612, None)\n",
      "Wall time: 59.1 s\n"
     ]
    },
    {
     "data": {
      "image/png": "[encoded data removed]",
      "text/plain": [
       "<Figure size 720x504 with 2 Axes>"
      ]
     },
     "metadata": {
      "needs_background": "light"
     },
     "output_type": "display_data"
    }
   ],
   "source": [
    "%%time\n",
    "data = pd.read_csv('./sign_data/data.csv')\n",
    "X_data = data[['img1','img2']]\n",
    "y_data = data[['target']]\n",
    "X_train, X_test, y_train, y_test = train_test_split(X_data, y_data, test_size=0.33)\n",
    "PolySVM('VGG16','RMSprop', X_train, y_train, X_test, y_test)"
   ]
  },
  {
   "cell_type": "code",
   "execution_count": 159,
   "id": "popular-secretary",
   "metadata": {},
   "outputs": [
    {
     "name": "stdout",
     "output_type": "stream",
     "text": [
      "POLY SVM InceptionV3 Adam\n",
      "Acuracy 0.908106680749934\n",
      "P,R,F1: (0.890783297186488, 0.9076383565577295, 0.8981137125483377, None)\n",
      "Wall time: 1min 14s\n"
     ]
    },
    {
     "data": {
      "image/png": "[encoded data removed]",
      "text/plain": [
       "<Figure size 720x504 with 2 Axes>"
      ]
     },
     "metadata": {
      "needs_background": "light"
     },
     "output_type": "display_data"
    }
   ],
   "source": [
    "%%time\n",
    "data = pd.read_csv('./sign_data/data.csv')\n",
    "X_data = data[['img1','img2']]\n",
    "y_data = data[['target']]\n",
    "X_train, X_test, y_train, y_test = train_test_split(X_data, y_data, test_size=0.33)\n",
    "PolySVM('InceptionV3','Adam', X_train, y_train, X_test, y_test)"
   ]
  },
  {
   "cell_type": "code",
   "execution_count": 160,
   "id": "twelve-massage",
   "metadata": {},
   "outputs": [
    {
     "name": "stdout",
     "output_type": "stream",
     "text": [
      "POLY SVM InceptionV3 Adagrad\n",
      "Acuracy 0.9927383152891471\n",
      "P,R,F1: (0.9892912772585669, 0.9945662912467892, 0.9918559819647254, None)\n",
      "Wall time: 23 s\n"
     ]
    },
    {
     "data": {
      "image/png": "[encoded data removed]",
      "text/plain": [
       "<Figure size 720x504 with 2 Axes>"
      ]
     },
     "metadata": {
      "needs_background": "light"
     },
     "output_type": "display_data"
    }
   ],
   "source": [
    "%%time\n",
    "data = pd.read_csv('./sign_data/data.csv')\n",
    "X_data = data[['img1','img2']]\n",
    "y_data = data[['target']]\n",
    "X_train, X_test, y_train, y_test = train_test_split(X_data, y_data, test_size=0.33)\n",
    "PolySVM('InceptionV3','Adagrad', X_train, y_train, X_test, y_test)"
   ]
  },
  {
   "cell_type": "code",
   "execution_count": null,
   "id": "circular-recycling",
   "metadata": {},
   "outputs": [],
   "source": []
  },
  {
   "cell_type": "code",
   "execution_count": null,
   "id": "planned-begin",
   "metadata": {},
   "outputs": [],
   "source": []
  }
 ],
 "metadata": {
  "kernelspec": {
   "display_name": "Python 3",
   "language": "python",
   "name": "python3"
  },
  "language_info": {
   "codemirror_mode": {
    "name": "ipython",
    "version": 3
   },
   "file_extension": ".py",
   "mimetype": "text/x-python",
   "name": "python",
   "nbconvert_exporter": "python",
   "pygments_lexer": "ipython3",
   "version": "3.8.8"
  }
 },
 "nbformat": 4,
 "nbformat_minor": 5
}
